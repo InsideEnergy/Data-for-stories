{
 "cells": [
  {
   "cell_type": "markdown",
   "metadata": {},
   "source": [
    "This Jupyter notebook estimates the cost of plugging Wyoming's newest wells -- those drilled between 2011 and 2015 -- based on the relationship between well depth and well-plugging cost in historic reclamation projects, and the orphan rate for historic wells.\n",
    "\n",
    "First, we'll import some of the basic packages."
   ]
  },
  {
   "cell_type": "code",
   "execution_count": 1,
   "metadata": {
    "collapsed": true
   },
   "outputs": [],
   "source": [
    "import pandas as pd\n",
    "import numpy as np\n",
    "import matplotlib.pyplot as plt\n",
    "%matplotlib inline"
   ]
  },
  {
   "cell_type": "markdown",
   "metadata": {},
   "source": [
    "Next, we'll import CSV file of wells spudded between 2011 and present. \n",
    "\n",
    "This CSV file is based on a database from the **Wyoming Oil and Gas Conservation Commission** that included information such as depth, type, spud date and status for every well, going back to 1900. \n",
    "\n",
    "In Excel, we filtered the wells based on spud date (date of first drilling). Then, we took only the depth information for those 5,125 wells and saved it as a CSV. We excluded wells that had no spud and/or depth information."
   ]
  },
  {
   "cell_type": "code",
   "execution_count": 16,
   "metadata": {
    "collapsed": false
   },
   "outputs": [],
   "source": [
    "import csv\n",
    "with open('WellDepth20112015.csv', 'rb') as f:\n",
    "    reader = csv.reader(f)\n",
    "    depth_list = list(reader)"
   ]
  },
  {
   "cell_type": "markdown",
   "metadata": {},
   "source": [
    "Next, we'll write a function, **singleTrial**, to randomly select 3% of the depth values, or 154 of them. We are selecting 3% because this is the lower bound of the typical orphan rate for wells that were spudded 2010 or earlier.\n",
    "\n",
    "For those random 154 wells, we'll estimate the cost using the formula we found by doing a linear regression of plugging costs and well depth for historical reclamation projects in Wyoming. That formula is: **Cost Per Well = 12.3635 * AvgDepth - 2211.21**\n",
    "\n",
    "**SingleTrial** returns the total estimated plugging cost for all 154 of the of the potentially orphaned wells."
   ]
  },
  {
   "cell_type": "code",
   "execution_count": 12,
   "metadata": {
    "collapsed": true
   },
   "outputs": [],
   "source": [
    "import random\n",
    "def singleTrial(depthlist):\n",
    "    depth_sample = random.sample(depthlist,154)\n",
    "    est_well_cost = [12.3635*float(x[0]) - 2211.21 for x in depth_sample]\n",
    "    total_est_cost = sum(est_well_cost)\n",
    "    return total_est_cost"
   ]
  },
  {
   "cell_type": "markdown",
   "metadata": {},
   "source": [
    "Next, we'll write a function, **multipleTrials**, to run that single trial a given number of times and return the results for the total costs of reclamation for each trial in a list."
   ]
  },
  {
   "cell_type": "code",
   "execution_count": 13,
   "metadata": {
    "collapsed": false
   },
   "outputs": [],
   "source": [
    "def multipleTrials(depthlist, numberoftrials):\n",
    "    trials=[]\n",
    "    for i in range(numberoftrials):\n",
    "        trials.append(singleTrial(depthlist))\n",
    "    return trials"
   ]
  },
  {
   "cell_type": "markdown",
   "metadata": {},
   "source": [
    "Next, we'll write a function, **summarizeTrials**, that looks at the estimated well-plugging costs for the simulated trial and computes the average, minimum and maximum values, and prints them."
   ]
  },
  {
   "cell_type": "code",
   "execution_count": 14,
   "metadata": {
    "collapsed": false
   },
   "outputs": [],
   "source": [
    "#Average the trials\n",
    "def summarizeTrials(trialslist, numberoftrials):\n",
    "    AVERAGE = sum(trialslist) / numberoftrials\n",
    "    MIN = min(trialslist)\n",
    "    MAX = max(trialslist)\n",
    "    X = \"AVERAGE is \" + str(AVERAGE)\n",
    "    Y = \"MIN is \" + str(MIN)\n",
    "    Z = \"MAX is \" + str(MAX)\n",
    "    print X\n",
    "    print Y\n",
    "    print Z"
   ]
  },
  {
   "cell_type": "markdown",
   "metadata": {},
   "source": [
    "Finally, we run our simulation 1,000 times and see what the average estimated well-plugging cost is, as well as the minimum and maximum estimated costs."
   ]
  },
  {
   "cell_type": "code",
   "execution_count": 15,
   "metadata": {
    "collapsed": false
   },
   "outputs": [
    {
     "name": "stdout",
     "output_type": "stream",
     "text": [
      "AVERAGE is 16753767.4455\n",
      "MIN is 14715962.5467\n",
      "MAX is 20427557.325\n"
     ]
    }
   ],
   "source": [
    "number_of_trials = 1000\n",
    "trials = multipleTrials(depth_list,number_of_trials)\n",
    "summarizeTrials(trials, number_of_trials)"
   ]
  },
  {
   "cell_type": "code",
   "execution_count": null,
   "metadata": {
    "collapsed": true
   },
   "outputs": [],
   "source": []
  }
 ],
 "metadata": {
  "kernelspec": {
   "display_name": "Python 2",
   "language": "python",
   "name": "python2"
  },
  "language_info": {
   "codemirror_mode": {
    "name": "ipython",
    "version": 2
   },
   "file_extension": ".py",
   "mimetype": "text/x-python",
   "name": "python",
   "nbconvert_exporter": "python",
   "pygments_lexer": "ipython2",
   "version": "2.7.8"
  }
 },
 "nbformat": 4,
 "nbformat_minor": 0
}
