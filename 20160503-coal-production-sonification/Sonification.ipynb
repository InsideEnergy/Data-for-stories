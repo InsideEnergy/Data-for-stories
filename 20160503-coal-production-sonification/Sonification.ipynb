{
 "cells": [
  {
   "cell_type": "code",
   "execution_count": 286,
   "metadata": {
    "collapsed": false
   },
   "outputs": [],
   "source": [
    "import pandas as pd\n",
    "from miditime.miditime import MIDITime\n",
    "import numpy as np\n",
    "import csv\n",
    "import json"
   ]
  },
  {
   "cell_type": "code",
   "execution_count": 287,
   "metadata": {
    "collapsed": false
   },
   "outputs": [],
   "source": [
    "#Read in CSV, normalize coal production data (to millions)\n",
    "df = pd.read_csv('coal_prod_1984_2016_weeks_summed.csv', encoding='utf8', names=[\"Year\", \"Week\", \"CoalProd\"])\n",
    "df[\"CoalProdMillions\"]=df[[\"CoalProd\"]]/1000000"
   ]
  },
  {
   "cell_type": "code",
   "execution_count": 288,
   "metadata": {
    "collapsed": true
   },
   "outputs": [],
   "source": [
    "# data processing if you want to listen to the data monthly\n",
    "def process_data_months(df, csvfile):\n",
    "    # Remove weeks 1 and weeks 53\n",
    "    df = df[df.Week != 53]\n",
    "    df = df[df.Week != 1]\n",
    "    df = df[df.Week != 52]\n",
    "    df = df[df.Week != 27]\n",
    "    #reset index and select just index and coal production (millions) columns\n",
    "    df.reset_index(inplace=True)\n",
    "\n",
    "    # Bin into groups of four weeks\n",
    "    df['Month'] = np.floor(df.index/4)\n",
    "\n",
    "    df2 = df.groupby('Month').aggregate(sum)\n",
    "\n",
    "    #Export dataframe as CSV\n",
    "    df2.to_csv(csvfile, header=False)"
   ]
  },
  {
   "cell_type": "code",
   "execution_count": 289,
   "metadata": {
    "collapsed": true
   },
   "outputs": [],
   "source": [
    "# data processing if you want to listen to the data weekly\n",
    "def process_data_weeks(df, csvfile):\n",
    "    # Remove weeks 1 and weeks 53\n",
    "    df = df[df.Week != 53]\n",
    "    df = df[df.Week != 1]\n",
    "    df = df[df.Week != 52]\n",
    "    df = df[df.Week != 27]\n",
    "    #reset index and select just index and coal production (millions) columns\n",
    "    df.reset_index(inplace=True)\n",
    "\n",
    "    #Export dataframe as CSV\n",
    "    df.to_csv(csvfile, header=False)"
   ]
  },
  {
   "cell_type": "code",
   "execution_count": 290,
   "metadata": {
    "collapsed": false
   },
   "outputs": [],
   "source": [
    "process_data_weeks(df,'coal_sonify_weeks.csv')\n",
    "process_data_months(df,'coal_sonify_months.csv')"
   ]
  },
  {
   "cell_type": "code",
   "execution_count": 291,
   "metadata": {
    "collapsed": false
   },
   "outputs": [],
   "source": [
    "def csv_to_MIDITime_data(filename):\n",
    "    mydata = []\n",
    "    with open(filename, 'rb') as f:\n",
    "        reader=csv.reader(f)\n",
    "        for row in reader:\n",
    "            mydict = {'days_since_epoch': int(float(row[0])) , 'magnitude': float(row[5])}\n",
    "            mydata.append(mydict)\n",
    "    return mydata"
   ]
  },
  {
   "cell_type": "code",
   "execution_count": 292,
   "metadata": {
    "collapsed": true
   },
   "outputs": [],
   "source": [
    "mydata = csv_to_MIDITime_data('coal_sonify_weeks.csv')\n",
    "\n",
    "mymidi = MIDITime(80, 'myfile.mid', 45, 2, 5)\n",
    "\n",
    "my_data_timed = [{'beat': mymidi.beat(d['days_since_epoch']), 'magnitude': d['magnitude']} for d in mydata]\n",
    "\n",
    "start_time = my_data_timed[0]['beat']"
   ]
  },
  {
   "cell_type": "code",
   "execution_count": 293,
   "metadata": {
    "collapsed": false
   },
   "outputs": [],
   "source": [
    "def mag_to_pitch_tuned(magnitude):\n",
    "    # Where does this data point sit in the domain of your data? (I.E. the min magnitude is 3, the max in 5.6). In this case the optional 'True' means the scale is reversed, so the highest value will return the lowest percentage.\n",
    "    scale_pct = mymidi.linear_scale_pct(10, 25, magnitude)\n",
    "\n",
    "    # Another option: Linear scale, reverse order\n",
    "    # scale_pct = mymidi.linear_scale_pct(3, 5.7, magnitude, True)\n",
    "\n",
    "    # Another option: Logarithmic scale, reverse order\n",
    "    # scale_pct = mymidi.log_scale_pct(3, 5.7, magnitude, True)\n",
    "\n",
    "    # Pick a range of notes. This allows you to play in a key.\n",
    "    c_major = ['C', 'D', 'E', 'F', 'G', 'A', 'B']\n",
    "\n",
    "    #Find the note that matches your data point\n",
    "    note = mymidi.scale_to_note(scale_pct, c_major)\n",
    "\n",
    "    #Translate that note to a MIDI pitch\n",
    "    midi_pitch = mymidi.note_to_midi_pitch(note)\n",
    "\n",
    "    return midi_pitch"
   ]
  },
  {
   "cell_type": "code",
   "execution_count": 294,
   "metadata": {
    "collapsed": true
   },
   "outputs": [],
   "source": [
    "def mag_to_attack(magnitude):\n",
    "    # Where does this data point sit in the domain of your data? (I.E. the min magnitude is 3, the max in 5.6). In this case the optional 'True' means the scale is reversed, so the highest value will return the lowest percentage.\n",
    "    scale_pct = mymidi.linear_scale_pct(10, 25, magnitude)\n",
    "    \n",
    "    #max_attack = 10\n",
    "\n",
    "    adj_attack = (1-scale_pct)*max_attack + 70\n",
    "    #adj_attack = 100\n",
    "\n",
    "    return adj_attack"
   ]
  },
  {
   "cell_type": "code",
   "execution_count": 295,
   "metadata": {
    "collapsed": false
   },
   "outputs": [],
   "source": [
    "note_list = []\n",
    "\n",
    "for d in my_data_timed:\n",
    "    note_list.append([\n",
    "        d['beat'] - start_time,\n",
    "        mag_to_pitch_tuned(d['magnitude']),\n",
    "        100,\n",
    "        #mag_to_attack(d['magnitude']),  # attack\n",
    "        0.5  # duration, in beats\n",
    "    ])"
   ]
  },
  {
   "cell_type": "code",
   "execution_count": 296,
   "metadata": {
    "collapsed": false
   },
   "outputs": [
    {
     "name": "stdout",
     "output_type": "stream",
     "text": [
      "29 0.0 0.5 100\n"
     ]
    }
   ],
   "source": [
    "# Add a track with those notes\n",
    "mymidi.add_track(note_list)\n",
    "\n",
    "# Output the .mid file\n",
    "mymidi.save_midi()"
   ]
  }
 ],
 "metadata": {
  "kernelspec": {
   "display_name": "Python 2",
   "language": "python",
   "name": "python2"
  },
  "language_info": {
   "codemirror_mode": {
    "name": "ipython",
    "version": 2
   },
   "file_extension": ".py",
   "mimetype": "text/x-python",
   "name": "python",
   "nbconvert_exporter": "python",
   "pygments_lexer": "ipython2",
   "version": "2.7.11"
  }
 },
 "nbformat": 4,
 "nbformat_minor": 0
}
